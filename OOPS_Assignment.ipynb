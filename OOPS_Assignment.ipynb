{
  "nbformat": 4,
  "nbformat_minor": 0,
  "metadata": {
    "colab": {
      "provenance": []
    },
    "kernelspec": {
      "name": "python3",
      "display_name": "Python 3"
    },
    "language_info": {
      "name": "python"
    }
  },
  "cells": [
    {
      "cell_type": "markdown",
      "source": [
        "#OOPS\n",
        "1.What is Object-Oriented Programming (OOP)?\n",
        "  - Object-Oriented Programming (OOP) is a programming paradigm that organizes software design around objects rather than functions or logic. It uses several key principles to make software more modular, reusable, and easier to maintain.\n",
        "\n",
        "  In OOP, the focus is on objects — which can represent both data and methods (functions) that operate on the data. These objects are instances of classes, which define the blueprint for the objects.\n",
        "\n",
        "2.What is a class in OOP?\n",
        "  - In Object-Oriented Programming (OOP), a class is a blueprint or template for creating objects (instances). It defines the properties (attributes) and behaviors (methods) that the objects created from it will have. A class essentially serves as a mold or structure for creating objects, and these objects can hold data and have functions to operate on that data.\n",
        "\n",
        "3.What is an object in OOP?\n",
        "  - In Object-Oriented Programming (OOP), an object is a specific instance of a class. It is an entity that holds data (in the form of attributes) and has behavior (in the form of methods). Objects are the building blocks of an OOP-based program and are created from classes (which act as blueprints).\n",
        "\n",
        "  Each object has:\n",
        "\n",
        "  Attributes (also called properties or fields): These store the data specific to that object.\n",
        "\n",
        "  Methods: These are functions defined inside the class that operate on the object’s data or perform specific actions.\n",
        "\n",
        "  Objects represent real-world entities and concepts. For example, in a class Car, an object would represent a particular car, such as a Toyota Camry 2020, with specific attributes like color, model, and year, and methods to perform actions like starting the engine or honking the horn.\n",
        "\n",
        "4.What is the difference between abstraction and encapsulation?\n",
        "  - Abstraction and encapsulation are two fundamental concepts in OOP, and while they are related, they serve different purposes. Here’s a breakdown of their differences:\n",
        "  - 1. Abstraction:\n",
        "       Definition:\n",
        "       Abstraction is the concept of hiding the complex implementation details of a system and exposing only the necessary and relevant parts to the user. It focuses on what an object does rather than how it does it. The goal is to reduce complexity by showing only the essential features and hiding the unnecessary details.\n",
        "\n",
        "      Purpose:\n",
        "\n",
        "      To hide the complexity of a system and provide a simple interface.\n",
        "\n",
        "      To focus on essential features by hiding unnecessary details.\n",
        "\n",
        "      Allows for designing code at a higher level, making it more user-friendly and easier to work with.\n",
        "\n",
        "     How it works:\n",
        "     Abstraction is achieved by using abstract classes and interfaces (in some programming languages). In Python, this is commonly done using abstract base classes (ABC) and abstract methods.\n",
        "    \n",
        "  - 2. Encapsulation:\n",
        "       Definition:\n",
        "       Encapsulation is the process of bundling the data (attributes) and methods (functions) that operate on that data into a single unit, called a class. It also restricts access to the inner workings of an object to prevent unauthorized modification. This is done using access modifiers (like private, protected, or public) to control how data is accessed and modified.\n",
        "\n",
        "       Purpose:\n",
        "\n",
        "       To group related data and methods together into a class.\n",
        "\n",
        "       To protect the internal state of an object by providing access through methods (getters and setters).\n",
        "\n",
        "       To enforce data hiding, restricting direct access to attributes, and making sure that data is modified only in safe and controlled ways.\n",
        "\n",
        "      How it works:\n",
        "      Encapsulation is implemented by defining private or protected attributes and controlling access to them via public methods (also called getters and setters).\n",
        "\n",
        "5.What are dunder methods in Python?\n",
        "  - Dunder methods, also known as magic methods or special methods, are methods in Python that have double underscores (__) at both the beginning and the end of their names. The term \"dunder\" is short for \"double underscore\". These methods allow you to define or customize how objects of a class behave with built-in Python operations (e.g., addition, string representation, comparisons, etc.).\n",
        "\n",
        "  Dunder methods are invoked implicitly by Python when performing certain operations on objects. You generally don't call these methods directly; instead, Python calls them automatically when an operation or function requires their behavior.\n",
        "\n",
        "  For example, when you use the + operator between two objects, Python internally calls the __add__() method to determine how the objects should be added together.\n",
        "\n",
        "6.Explain the concept of inheritance in OOP?\n",
        "  - Inheritance is a fundamental concept in Object-Oriented Programming (OOP) that allows one class (called a child or subclass) to inherit properties and behaviors (attributes and methods) from another class (called a parent or superclass). This concept promotes code reuse and establishes a natural hierarchy between classes.\n",
        "\n",
        "  Inheritance allows subclasses to inherit common functionality from a superclass while also being able to extend or override the inherited methods and attributes. This helps in organizing code in a way that reduces duplication and maintains modularity.\n",
        "\n",
        "  Key Concepts of Inheritance:\n",
        "  Parent Class (Superclass):\n",
        "\n",
        "  The class that is being inherited from.\n",
        "\n",
        "  It contains common functionality that can be shared by other classes.\n",
        "\n",
        "  Child Class (Subclass):\n",
        "\n",
        "  The class that inherits from the parent class.\n",
        "\n",
        "  It can use the attributes and methods from the parent class, and also define its own attributes and methods.\n",
        "\n",
        "  Method Overriding:\n",
        "\n",
        "  The child class can override methods inherited from the parent class to provide its own implementation.\n",
        "\n",
        "  Method Overloading (Not directly supported in Python, but can be mimicked):\n",
        "\n",
        "  The child class can define methods with the same name but different parameters.\n",
        "\n",
        "  super() Function:\n",
        "\n",
        "  The super() function is used to call a method from the parent class. It’s often used to call the parent class’s constructor or other methods in the child class.\n",
        "\n",
        "7.What is polymorphism in OOP?\n",
        "  - Polymorphism is a core concept in Object-Oriented Programming (OOP) that allows different objects to be treated as instances of the same class through a common interface, even though they may behave differently. The word \"polymorphism\" comes from Greek, meaning \"many shapes\" — in OOP, this refers to the ability of different classes to provide different implementations of methods that are defined with the same name.\n",
        "\n",
        "  Types of Polymorphism in OOP:\n",
        "  Method Overloading (Compile-time polymorphism):\n",
        "\n",
        "  - This allows a class to have multiple methods with the same name but with\n",
        "    different parameter lists (either in number or type of parameters). Note: Python does not natively support method overloading in the same way as languages like Java or C++, but it can be simulated by checking argument types or using default arguments.\n",
        "\n",
        " Method Overriding (Runtime polymorphism):\n",
        "\n",
        "  - This occurs when a subclass provides a specific implementation of a method\n",
        "    that is already defined in its parent class. The method in the subclass overrides the one in the parent class. The decision of which method to call is made at runtime.\n",
        "\n",
        " Operator Overloading:\n",
        "\n",
        "  - You can define or change the behavior of standard operators (like +, -, *,\n",
        "    ==, etc.) to work with user-defined classes by implementing special methods (called dunder methods).\n",
        "\n",
        " How Does Polymorphism Work?\n",
        "- Polymorphism allows you to call methods on objects of different types (or classes), and Python will call the method appropriate to the type of the object that the method is being called on, even though the method names might be the same. This allows you to write code that can handle objects of different classes in a uniform way.\n",
        "\n",
        "8.How is encapsulation achieved in Python?\n",
        "  - In Python, encapsulation is achieved through access modifiers — public,\n",
        "    protected, and private attributes and methods:\n",
        "\n",
        "   Public Members: These are accessible from anywhere in the program.\n",
        "\n",
        "   Any attribute or method that is defined with no leading underscores is considered public.\n",
        "\n",
        "   Protected Members: These are intended to be used within the class and its subclasses, but they can still be accessed from outside the class (though it's discouraged).\n",
        "\n",
        "   These are denoted by a single leading underscore (_).\n",
        "\n",
        "   Private Members: These are meant to be used only within the class itself. They cannot be accessed directly from outside the class.\n",
        "\n",
        "   These are denoted by two leading underscores (__).\n",
        "\n",
        "9.What is a constructor in Python?\n",
        "  - In Python, a constructor is a special method used to initialize the state  \n",
        "    of an object when it is created. It is automatically called when an object of a class is instantiated. Constructors allow you to set the initial values for an object's attributes and prepare it for use. The constructor method in Python is defined using the special method __init__().\n",
        "\n",
        "10.What are class and static methods in Python?\n",
        "   - In Python, both class methods and static methods are methods that belong to a class rather than to an instance of the class. They are both different from regular instance methods, which operate on instances of the class (objects). Let's break down what class methods and static methods are, and how they are defined and used.\n",
        "\n",
        "   1. Class Methods in Python:\n",
        "      A class method is a method that is bound to the class and not the instance of the class. It takes a class as its first argument (usually named cls) instead of an instance (which is referred to as self).\n",
        "\n",
        "      How to define a class method:\n",
        "\n",
        "      The @classmethod decorator is used to define a class method.\n",
        "\n",
        "      The first parameter of a class method is always the class itself, conventionally named cls.\n",
        "\n",
        "      Characteristics of Class Methods:\n",
        "      They can modify class state that applies across all instances of the class.\n",
        "\n",
        "      They are often used for factory methods (methods that return instances of the class) or for class-level operations.\n",
        "\n",
        "    2. Static Methods in Python:\n",
        "       A static method is a method that is bound to the class, but it does not take a reference to the instance (self) or the class (cls). Static methods do not operate on class or instance attributes. Instead, they behave like regular functions that belong to a class.\n",
        "\n",
        "       How to define a static method:\n",
        "\n",
        "      The @staticmethod decorator is used to define a static method.\n",
        "\n",
        "      Static methods don't take self or cls as their first argument, and they can be called without creating an instance of the class.\n",
        "\n",
        "      Characteristics of Static Methods:\n",
        "      They don't require access to the instance or class itself.\n",
        "\n",
        "      They are often used for utility functions that perform tasks related to the class but don't need access to its attributes or methods.\n",
        "\n",
        "11.What is method overloading in Python?\n",
        "   - Method overloading refers to the ability of a class to define multiple methods with the same name but with different parameter types or number of parameters. It allows you to define methods that perform similar tasks but can handle different kinds of input.\n",
        "\n",
        "   In languages like Java or C++, method overloading is explicitly supported, where you can define multiple methods with the same name but different parameter lists. However, Python does not support traditional method overloading. In Python, the last method defined with a given name will overwrite any previous definitions, meaning that only one method with that name exists at a time.\n",
        "\n",
        "   However, Python can simulate method overloading behavior by using default arguments, variable-length arguments, or manually checking the types and number of arguments inside the method.\n",
        "\n",
        "12.What is method overriding in OOP?\n",
        "   - Method overriding is a feature in Object-Oriented Programming (OOP) that allows a subclass (child class) to provide a specific implementation for a method that is already defined in its superclass (parent class). The child class overrides the parent class method with its own version, allowing for more specialized behavior while maintaining the same method signature.\n",
        "\n",
        "13.What is a property decorator in Python?\n",
        "   - The property decorator in Python allows you to define methods that behave like attributes. It provides a way to access methods as if they were attributes, without needing to call them explicitly like a function.\n",
        "\n",
        "   The property decorator is typically used when you want to define getter, setter, and deleter methods for an attribute, while hiding the internal implementation details from the outside world.\n",
        "\n",
        "14.Why is polymorphism important in OOP?\n",
        "   - The property decorator in Python allows you to define methods that behave like attributes. It provides a way to access methods as if they were attributes, without needing to call them explicitly like a function.\n",
        "\n",
        "   The property decorator is typically used when you want to define getter, setter, and deleter methods for an attribute, while hiding the internal implementation details from the outside world.\n",
        "\n",
        "   Flexibility: It allows one interface to be used for different object types.\n",
        "\n",
        "   Code Reusability: Enables you to write functions or methods that work with different types of objects.\n",
        "\n",
        "   Simplified Maintenance: Polymorphism reduces the need for frequent changes and enhances code stability as the application grows.\n",
        "\n",
        "   Cleaner and More Readable Code: You can avoid cluttering your code with repetitive logic for different object types.\n",
        "\n",
        "   Interface-Based Design: Supports flexible and scalable systems by enforcing common interfaces.\n",
        "\n",
        "   In essence, polymorphism helps in creating more maintainable, reusable, and extensible code by allowing objects of different classes to be treated in a consistent way, which is one of the fundamental benefits of Object-Oriented Programming.\n",
        "\n",
        "15.What is an abstract class in Python?\n",
        "   - An abstract class in Python is a class that cannot be instantiated on its own and serves as a blueprint for other classes. It is designed to be subclassed, and it typically contains one or more abstract methods — methods that are declared but contain no implementation in the abstract class itself. Subclasses must implement these abstract methods to provide the specific behavior.\n",
        "\n",
        "   - Abstract classes allow you to define common interfaces for a group of related classes while leaving the implementation details to be defined in the subclasses. This concept is fundamental to abstraction in Object-Oriented Programming (OOP).\n",
        "\n",
        "16.What are the advantages of OOP?\n",
        "   - Modularity and Reusability: Code can be broken into manageable, reusable components (objects).\n",
        "\n",
        "   - Encapsulation: Hides the internal implementation details and exposes only necessary information.\n",
        "\n",
        "   - Inheritance: Allows extending existing classes to create new functionality, reducing code duplication.\n",
        "\n",
        "   - Polymorphism: Enables flexible code that can work with objects of different types in a unified way.\n",
        "\n",
        "   - Maintainability: Easier to update and maintain because of modularity and encapsulation.\n",
        "\n",
        "   - Abstraction: Hides complex implementation details and provides a simplified interface.\n",
        "\n",
        "   - Scalability: Easily extends as systems grow, with new functionality added without significant modifications.\n",
        "\n",
        "   - Improved Collaboration: Allows multiple developers to work independently on different parts of a system.\n",
        "\n",
        "   - Real-World Modeling: Better models real-world objects and scenarios, making the design process intuitive.\n",
        "\n",
        "   - Code Organization: Provides a structured approach to organizing complex systems.\n",
        "\n",
        "   In summary, OOP helps improve the structure, organization, and maintenance of software. It encourages code reusability, reduces redundancy, and simplifies software development by focusing on objects and their interactions. These advantages make OOP a preferred paradigm for building large, scalable, and maintainable applications.\n",
        "\n",
        "17.What is the difference between a class variable and an instance variable?\n",
        "   - In Python, class variables and instance variables are both used to store data within a class, but they differ in terms of where and how they are stored and accessed.\n",
        "\n",
        "   1. Class Variable\n",
        "      Definition: A class variable is a variable that is shared among all instances of a class. It is defined within the class but outside any instance methods.\n",
        "\n",
        "      Scope: Class variables belong to the class itself, not to any individual object created from the class.\n",
        "\n",
        "      Shared Across All Instances: Since class variables are shared among all instances, changing the value of a class variable will affect all objects that reference that class variable.\n",
        "\n",
        "      Accessed via: Class variables are accessed using the class name or through an instance, though it is recommended to access them via the class name.\n",
        "\n",
        "      Usage: Class variables are used when you want to store data that should be common across all instances of a class (e.g., a constant or a count shared by all objects of the class).\n",
        "\n",
        "  2. Instance Variable\n",
        "     Definition: An instance variable is a variable that is tied to a specific instance (object) of the class. Each object has its own copy of instance variables.\n",
        "\n",
        "     Scope: Instance variables belong to an individual object, and each object can have different values for these variables.\n",
        "\n",
        "     Not Shared Across Instances: Instance variables are unique to each object, and changing the value of an instance variable does not affect other instances of the class.\n",
        "\n",
        "     Accessed via: Instance variables are accessed using the instance (object) of the class.\n",
        "\n",
        "     Usage: Instance variables are used when you want to store data that is unique to each instance of a class (e.g., attributes that define the state of an individual object).\n",
        "\n",
        "18.What is multiple inheritance in Python?\n",
        "   - Multiple inheritance is a feature of object-oriented programming in Python\n",
        "     where a class can inherit attributes and methods from more than one parent class. This allows a class to combine functionality from multiple classes, making it more versatile and reusable.\n",
        "\n",
        "    - How Multiple Inheritance Works in Python\n",
        "      In Python, a class can inherit from multiple classes by specifying the parent classes in the class definition, separated by commas. The derived class inherits all attributes and methods from each of the parent classes. If the same method or attribute is defined in multiple parent classes, Python follows a method resolution order (MRO) to determine which method to use.\n",
        "\n",
        "19.Explain the purpose of ‘’__str__’ and ‘__repr__’ ‘ methods in Python.\n",
        "   - In Python, both __str__ and __repr__ are special methods that provide ways to represent objects as strings. These methods are part of the object’s \"stringification\" process, meaning they define how an object should be represented when it's converted to a string.\n",
        "\n",
        "   1. __str__ Method\n",
        "      Purpose: The __str__ method is intended to provide a human-readable or informal string representation of an object. It’s meant to be a description of the object that is easy to read and understand for users.\n",
        "\n",
        "      Usage: This method is called when you use the print() function or when you use str() to convert an object to a string.\n",
        "\n",
        "      Example: It provides a friendly string representation of an object, something that the end user can easily understand.\n",
        "\n",
        "   2. __repr__ Method\n",
        "     Purpose: The __repr__ method is designed to provide an unambiguous or formal string representation of an object, often meant for developers or debugging purposes. The goal of __repr__ is to provide a string that, if passed to eval(), would (ideally) create an object that is identical to the current object. This is useful for debugging and logging.\n",
        "\n",
        "     Usage: This method is called when you call repr() on an object or when you interact with the object in the interpreter.\n",
        "\n",
        "     Example: It’s typically more detailed and precise than __str__, often including the class name and the state of the object.\n",
        "\n",
        "  How They Are Used:\n",
        "  When you call print() or str() on an object, Python will use the __str__ method (if defined). If __str__ is not defined, Python will fall back to __repr__. On the other hand, when you enter an object in the interpreter, Python will use __repr__.\n",
        "\n",
        "20.What is the significance of the ‘super()’ function in Python?\n",
        "   - In Python, the super() function is used to call methods from a parent (super) class. It is particularly useful in inheritance scenarios, where a subclass needs to call a method from one of its parent classes. The super() function allows you to call a method from a parent class in a way that ensures that the method resolution order (MRO) is followed correctly.\n",
        "\n",
        "    Key Points about super():\n",
        "     Access Parent Class Methods: The super() function allows you to call a method from a superclass (parent class) from within a subclass.\n",
        "\n",
        "     Avoiding Redundancy: It allows you to avoid hardcoding the parent class name in the subclass, making your code more maintainable and flexible.\n",
        "\n",
        "     Multiple Inheritance: In case of multiple inheritance, super() ensures the method is called in the correct order, following the method resolution order (MRO).\n",
        "\n",
        "21.What is the significance of the __del__ method in Python?\n",
        "   - In Python, the __del__ method is a special method (also known as a destructor) that is called when an object is about to be destroyed or garbage collected. It is the counterpart to the __init__ method, which is used for initializing an object. The __del__ method is intended to define any cleanup operations or resource deallocation that an object might need before it is destroyed.\n",
        "\n",
        "    Key Points About __del__:\n",
        "    Destructor Method: The __del__ method is invoked when an object is about to be destroyed, typically when there are no more references to the object.\n",
        "\n",
        "    Resource Cleanup: It is used for cleanup tasks, such as closing files, releasing network resources, or freeing memory if required.\n",
        "\n",
        "    Automatic Invocation: Python automatically calls the __del__ method when the reference count of an object drops to zero, meaning the object is no longer in use.\n",
        "\n",
        "    Not Always Guaranteed: The invocation of __del__ is tied to the garbage collection process, which is managed by Python's memory management system. In some cases (e.g., if there are circular references), the __del__ method might not be called immediately or at all.\n",
        "\n",
        "22.What is the difference between @staticmethod and @classmethod in Python?\n",
        "   - In Python, both @staticmethod and @classmethod are decorators used to define methods that aren't bound to an instance of the class (i.e., they don't take self as the first parameter). However, they serve different purposes:\n",
        "\n",
        "   1. @staticmethod\n",
        "    Does not receive any reference to the instance or class. It behaves like a regular function, but it's placed inside a class for organizational purposes.\n",
        "\n",
        "    It does not have access to the class or instance attributes. It's mainly used when a method logically belongs to the class but doesn't need to access any of the class or instance data.\n",
        "\n",
        "    You can call it on the class or on an instance, but it doesn't have any awareness of either.\n",
        "\n",
        "  2. @classmethod\n",
        "    Receives a reference to the class as its first parameter, typically named cls. This means the method has access to class-level attributes, but not instance-level attributes.\n",
        "\n",
        "    It can modify class state that applies across all instances of the class, but it doesn't modify instance state (i.e., individual object states).\n",
        "\n",
        "    You can call it on the class itself or on an instance.\n",
        "\n",
        "  @staticmethod: No access to the class (cls) or instance (self). It behaves like a regular function inside the class.\n",
        "\n",
        "  @classmethod: Has access to the class (cls), so it can modify class variables or use class methods.\n",
        "\n",
        "23.How does polymorphism work in Python with inheritance?\n",
        "   - Polymorphism in Python refers to the ability of different classes to provide a common interface, allowing objects of different types to be treated as objects of a common superclass. This is possible because Python supports inheritance and method overriding, which allows subclasses to change the behavior of methods inherited from the superclass.\n",
        "\n",
        "  In Python, polymorphism works in two primary ways:\n",
        "\n",
        "  Method Overriding (runtime polymorphism)\n",
        "\n",
        "  Method Overloading (not natively supported, but can be mimicked)\n",
        "\n",
        "24.What is method chaining in Python OOP?\n",
        "   - Method chaining in Python is a programming technique where multiple methods are called on the same object in a single line of code. This is made possible when each method in the chain returns the object itself (or another object that supports further method calls). It allows for more compact and readable code, especially when performing multiple operations on the same object.\n",
        "\n",
        "   In Object-Oriented Programming (OOP), method chaining is typically implemented by having each method return self, which refers to the current instance of the object. This allows subsequent methods to be called on the same object.\n",
        "\n",
        "25.What is the purpose of the __call__ method in Python?\n",
        "   - The __call__ method in Python is a special method that allows an instance of a class to be called like a function. In other words, when you implement the __call__ method in a class, you can use an object of that class in the same way you would use a function.\n",
        "\n",
        "   This can be useful in a variety of scenarios, such as when you want to make objects behave like functions or need to customize the behavior of function calls on objects.\n",
        "\n",
        "   Purpose of the __call__ Method:\n",
        "   Enable Function-Like Behavior for Objects: When you define __call__, you allow instances of a class to be called as if they were functions. This can be used to create callable objects that encapsulate behavior and state.\n",
        "\n",
        "   Customizable Behavior: You can customize how an object behaves when it's \"called,\" including handling arguments, performing operations, and returning results, just like a function would.\n",
        "\n",
        "   Flexibility and Clean Code: It allows for cleaner code when you need function-like behavior but want to maintain the power and structure of an object-oriented design.\n",
        "\n",
        "   \n",
        "\n",
        "\n",
        "\n"
      ],
      "metadata": {
        "id": "OIThD-OzF9hU"
      }
    },
    {
      "cell_type": "code",
      "execution_count": 1,
      "metadata": {
        "id": "3LVa3-zAFs3l",
        "colab": {
          "base_uri": "https://localhost:8080/"
        },
        "outputId": "4595d9bf-d1fb-48fc-d2c4-475f37e6b4f0"
      },
      "outputs": [
        {
          "output_type": "stream",
          "name": "stdout",
          "text": [
            "Animal makes a sound\n",
            "Bark!\n"
          ]
        }
      ],
      "source": [
        "# 1.Create a parent class Animal with a method speak() that prints a generic message. Create a child class Dog\n",
        "# that overrides the speak() method to print \"Bark!\".\n",
        "# Parent class Animal\n",
        "class Animal:\n",
        "    def speak(self):\n",
        "        print(\"Animal makes a sound\")\n",
        "\n",
        "# Child class Dog that overrides the speak method\n",
        "class Dog(Animal):\n",
        "    def speak(self):\n",
        "        print(\"Bark!\")\n",
        "\n",
        "# Creating instances and calling speak method\n",
        "animal = Animal()\n",
        "animal.speak()  # Output: Animal makes a sound\n",
        "\n",
        "dog = Dog()\n",
        "dog.speak()  # Output: Bark!\n"
      ]
    },
    {
      "cell_type": "code",
      "source": [
        "# 2.Write a program to create an abstract class Shape with a method area(). Derive classes Circle and Rectangle\n",
        "#from it and implement the area() method in both.\n",
        "\n",
        "from abc import ABC, abstractmethod\n",
        "import math\n",
        "\n",
        "# Abstract base class Shape\n",
        "class Shape(ABC):\n",
        "    @abstractmethod\n",
        "    def area(self):\n",
        "        pass\n",
        "\n",
        "# Derived class Circle\n",
        "class Circle(Shape):\n",
        "    def __init__(self, radius):\n",
        "        self.radius = radius\n",
        "\n",
        "    def area(self):\n",
        "        return math.pi * (self.radius ** 2)\n",
        "\n",
        "# Derived class Rectangle\n",
        "class Rectangle(Shape):\n",
        "    def __init__(self, width, height):\n",
        "        self.width = width\n",
        "        self.height = height\n",
        "\n",
        "    def area(self):\n",
        "        return self.width * self.height\n",
        "\n",
        "# Testing the classes\n",
        "circle = Circle(5)\n",
        "print(f\"Area of Circle: {circle.area()}\")  # Output: Area of Circle: 78.53981633974483\n",
        "\n",
        "rectangle = Rectangle(4, 6)\n",
        "print(f\"Area of Rectangle: {rectangle.area()}\")  # Output: Area of Rectangle: 24\n"
      ],
      "metadata": {
        "colab": {
          "base_uri": "https://localhost:8080/"
        },
        "id": "LNiG4bA4Hw5x",
        "outputId": "14597078-bfa3-43ef-d6a3-77997a76fbca"
      },
      "execution_count": 2,
      "outputs": [
        {
          "output_type": "stream",
          "name": "stdout",
          "text": [
            "Area of Circle: 78.53981633974483\n",
            "Area of Rectangle: 24\n"
          ]
        }
      ]
    },
    {
      "cell_type": "code",
      "source": [
        "# 3. Implement a multi-level inheritance scenario where a class Vehicle has an attribute type. Derive a class Car\n",
        "#and further derive a class ElectricCar that adds a battery attribute.\n",
        "\n",
        "# Base class Vehicle\n",
        "class Vehicle:\n",
        "    def __init__(self, vehicle_type):\n",
        "        self.vehicle_type = vehicle_type\n",
        "\n",
        "    def display_type(self):\n",
        "        print(f\"This is a {self.vehicle_type} vehicle.\")\n",
        "\n",
        "# Derived class Car from Vehicle\n",
        "class Car(Vehicle):\n",
        "    def __init__(self, vehicle_type, brand):\n",
        "        super().__init__(vehicle_type)  # Calling the constructor of Vehicle\n",
        "        self.brand = brand\n",
        "\n",
        "    def display_brand(self):\n",
        "        print(f\"This is a {self.brand} car.\")\n",
        "\n",
        "# Derived class ElectricCar from Car\n",
        "class ElectricCar(Car):\n",
        "    def __init__(self, vehicle_type, brand, battery_capacity):\n",
        "        super().__init__(vehicle_type, brand)  # Calling the constructor of Car\n",
        "        self.battery_capacity = battery_capacity\n",
        "\n",
        "    def display_battery(self):\n",
        "        print(f\"This electric car has a battery capacity of {self.battery_capacity} kWh.\")\n",
        "\n",
        "# Testing the classes\n",
        "vehicle = Vehicle(\"general\")\n",
        "vehicle.display_type()  # Output: This is a general vehicle.\n",
        "\n",
        "car = Car(\"car\", \"Toyota\")\n",
        "car.display_type()  # Output: This is a car vehicle.\n",
        "car.display_brand()  # Output: This is a Toyota car.\n",
        "\n",
        "electric_car = ElectricCar(\"electric car\", \"Tesla\", 75)\n",
        "electric_car.display_type()  # Output: This is an electric car vehicle.\n",
        "electric_car.display_brand()  # Output: This is a Tesla car.\n",
        "electric_car.display_battery()  # Output: This electric car has a battery capacity of 75 kWh.\n"
      ],
      "metadata": {
        "colab": {
          "base_uri": "https://localhost:8080/"
        },
        "id": "-wRIsQqHICWA",
        "outputId": "1a53569c-b0f5-4e46-f36a-012b8518ca91"
      },
      "execution_count": 3,
      "outputs": [
        {
          "output_type": "stream",
          "name": "stdout",
          "text": [
            "This is a general vehicle.\n",
            "This is a car vehicle.\n",
            "This is a Toyota car.\n",
            "This is a electric car vehicle.\n",
            "This is a Tesla car.\n",
            "This electric car has a battery capacity of 75 kWh.\n"
          ]
        }
      ]
    },
    {
      "cell_type": "code",
      "source": [
        "# 4.Demonstrate polymorphism by creating a base class Bird with a method fly(). Create two derived classes\n",
        " #Sparrow and Penguin that override the fly() method.\n",
        "\n",
        " # Base class Bird\n",
        "class Bird:\n",
        "    def fly(self):\n",
        "        print(\"This bird can fly.\")\n",
        "\n",
        "# Derived class Sparrow\n",
        "class Sparrow(Bird):\n",
        "    def fly(self):\n",
        "        print(\"Sparrow is flying high in the sky.\")\n",
        "\n",
        "# Derived class Penguin\n",
        "class Penguin(Bird):\n",
        "    def fly(self):\n",
        "        print(\"Penguins cannot fly.\")\n",
        "\n",
        "# Testing polymorphism\n",
        "bird1 = Sparrow()\n",
        "bird2 = Penguin()\n",
        "\n",
        "# Demonstrating polymorphism: calling the fly() method on objects of different classes\n",
        "bird1.fly()  # Output: Sparrow is flying high in the sky.\n",
        "bird2.fly()  # Output: Penguins cannot fly.\n",
        "\n"
      ],
      "metadata": {
        "colab": {
          "base_uri": "https://localhost:8080/"
        },
        "id": "L_7dL7jQIUgN",
        "outputId": "4f1a0754-065d-4218-fe06-e886cab118d0"
      },
      "execution_count": 4,
      "outputs": [
        {
          "output_type": "stream",
          "name": "stdout",
          "text": [
            "Sparrow is flying high in the sky.\n",
            "Penguins cannot fly.\n"
          ]
        }
      ]
    },
    {
      "cell_type": "code",
      "source": [
        "# 5.Write a program to demonstrate encapsulation by creating a class BankAccount with private attributes\n",
        "#balance and methods to deposit, withdraw, and check balance.\n",
        "\n",
        "class BankAccount:\n",
        "    def __init__(self, initial_balance=0):\n",
        "        # Private attribute (encapsulation)\n",
        "        self.__balance = initial_balance\n",
        "\n",
        "    # Method to deposit money\n",
        "    def deposit(self, amount):\n",
        "        if amount > 0:\n",
        "            self.__balance += amount\n",
        "            print(f\"Deposited ${amount}. Current balance: ${self.__balance}\")\n",
        "        else:\n",
        "            print(\"Deposit amount must be positive.\")\n",
        "\n",
        "    # Method to withdraw money\n",
        "    def withdraw(self, amount):\n",
        "        if amount > 0 and amount <= self.__balance:\n",
        "            self.__balance -= amount\n",
        "            print(f\"Withdrew ${amount}. Current balance: ${self.__balance}\")\n",
        "        elif amount > self.__balance:\n",
        "            print(\"Insufficient balance.\")\n",
        "        else:\n",
        "            print(\"Withdrawal amount must be positive.\")\n",
        "\n",
        "    # Method to check the balance (getter)\n",
        "    def check_balance(self):\n",
        "        print(f\"Current balance: ${self.__balance}\")\n",
        "\n",
        "# Testing the BankAccount class\n",
        "account = BankAccount(1000)  # Create a BankAccount with initial balance of $1000\n",
        "account.check_balance()       # Output: Current balance: $1000\n",
        "\n",
        "account.deposit(500)          # Output: Deposited $500. Current balance: $1500\n",
        "account.withdraw(200)         # Output: Withdrew $200. Current balance: $130\n"
      ],
      "metadata": {
        "colab": {
          "base_uri": "https://localhost:8080/"
        },
        "id": "SZeiYA4yIgNs",
        "outputId": "897532af-9b8b-4e73-a4fb-4dca97448d75"
      },
      "execution_count": 5,
      "outputs": [
        {
          "output_type": "stream",
          "name": "stdout",
          "text": [
            "Current balance: $1000\n",
            "Deposited $500. Current balance: $1500\n",
            "Withdrew $200. Current balance: $1300\n"
          ]
        }
      ]
    },
    {
      "cell_type": "code",
      "source": [
        "# 6.Demonstrate runtime polymorphism using a method play() in a base class Instrument. Derive classes Guitar\n",
        "#and Piano that implement their own version of play().\n",
        "\n",
        "# Base class Instrument\n",
        "class Instrument:\n",
        "    def play(self):\n",
        "        print(\"Playing an instrument.\")\n",
        "\n",
        "# Derived class Guitar\n",
        "class Guitar(Instrument):\n",
        "    def play(self):\n",
        "        print(\"Strumming the guitar.\")\n",
        "\n",
        "# Derived class Piano\n",
        "class Piano(Instrument):\n",
        "    def play(self):\n",
        "        print(\"Playing the piano.\")\n",
        "\n",
        "# Demonstrating runtime polymorphism\n",
        "def play_instrument(instrument: Instrument):\n",
        "    instrument.play()\n",
        "\n",
        "# Creating objects of different classes\n",
        "guitar = Guitar()\n",
        "piano = Piano()\n",
        "\n",
        "# Demonstrating runtime polymorphism\n",
        "play_instrument(guitar)  # Output: Strumming the guitar.\n",
        "play_instrument(piano)   # Output: Playing the piano.\n",
        "\n"
      ],
      "metadata": {
        "colab": {
          "base_uri": "https://localhost:8080/"
        },
        "id": "cJCUZXETIsOz",
        "outputId": "0b5094c0-ddf1-4518-951c-d7f43b1f9a29"
      },
      "execution_count": 7,
      "outputs": [
        {
          "output_type": "stream",
          "name": "stdout",
          "text": [
            "Strumming the guitar.\n",
            "Playing the piano.\n"
          ]
        }
      ]
    },
    {
      "cell_type": "code",
      "source": [
        "# 7.Create a class MathOperations with a class method add_numbers() to add two numbers and a static\n",
        "#method subtract_numbers() to subtract two numbers.\n",
        "\n",
        "class MathOperations:\n",
        "\n",
        "    @classmethod\n",
        "    def add_numbers(cls, num1, num2):\n",
        "        \"\"\"Class method to add two numbers.\"\"\"\n",
        "        return num1 + num2\n",
        "\n",
        "    @staticmethod\n",
        "    def subtract_numbers(num1, num2):\n",
        "        \"\"\"Static method to subtract two numbers.\"\"\"\n",
        "        return num1 - num2\n",
        "\n",
        "# Testing the methods\n",
        "\n",
        "# Using the class method to add numbers\n",
        "result_add = MathOperations.add_numbers(10, 5)\n",
        "print(f\"Addition Result: {result_add}\")  # Output: Addition Result: 15\n",
        "\n",
        "# Using the static method to subtract numbers\n",
        "result_subtract = MathOperations.subtract_numbers(10, 5)\n",
        "print(f\"Subtraction Result: {result_subtract}\")  # Output: Subtraction Result: 5\n"
      ],
      "metadata": {
        "colab": {
          "base_uri": "https://localhost:8080/"
        },
        "id": "uW5GkXUzJC6J",
        "outputId": "03e2e66f-dbe0-4270-85b9-27e27800ed01"
      },
      "execution_count": 8,
      "outputs": [
        {
          "output_type": "stream",
          "name": "stdout",
          "text": [
            "Addition Result: 15\n",
            "Subtraction Result: 5\n"
          ]
        }
      ]
    },
    {
      "cell_type": "code",
      "source": [
        "# 8. Implement a class Person with a class method to count the total number of persons created.\n",
        "\n",
        "class Person:\n",
        "    # Class variable to keep track of the number of persons\n",
        "    total_persons = 0\n",
        "\n",
        "    def __init__(self, name, age):\n",
        "        self.name = name\n",
        "        self.age = age\n",
        "        # Incrementing the class variable each time a new person is created\n",
        "        Person.total_persons += 1\n",
        "\n",
        "    @classmethod\n",
        "    def count_persons(cls):\n",
        "        \"\"\"Class method to return the total number of persons created.\"\"\"\n",
        "        return cls.total_persons\n",
        "\n",
        "# Testing the class and the class method\n",
        "\n",
        "# Creating Person objects\n",
        "person1 = Person(\"Alice\", 30)\n",
        "person2 = Person(\"Bob\", 25)\n",
        "person3 = Person(\"Charlie\", 35)\n",
        "\n",
        "# Using the class method to get the total number of persons\n",
        "print(f\"Total persons created: {Person.count_persons()}\")  # Output: Total persons created: 3\n",
        "\n"
      ],
      "metadata": {
        "colab": {
          "base_uri": "https://localhost:8080/"
        },
        "id": "BCuetXveJPwk",
        "outputId": "f88815ea-0aad-4dbc-d2ea-4fd0c13173bc"
      },
      "execution_count": 9,
      "outputs": [
        {
          "output_type": "stream",
          "name": "stdout",
          "text": [
            "Total persons created: 3\n"
          ]
        }
      ]
    },
    {
      "cell_type": "code",
      "source": [
        "# 9.Write a class Fraction with attributes numerator and denominator. Override the str method to display the\n",
        "#fraction as \"numerator/denominator\".\n",
        "\n",
        "class Fraction:\n",
        "    def __init__(self, numerator, denominator):\n",
        "        # Initialize the attributes numerator and denominator\n",
        "        self.numerator = numerator\n",
        "        self.denominator = denominator\n",
        "\n",
        "    # Override the __str__ method to display the fraction as \"numerator/denominator\"\n",
        "    def __str__(self):\n",
        "        return f\"{self.numerator}/{self.denominator}\"\n",
        "\n",
        "# Testing the Fraction class\n",
        "fraction1 = Fraction(3, 4)\n",
        "fraction2 = Fraction(5, 8)\n",
        "\n",
        "# Print the fractions\n",
        "print(fraction1)  # Output: 3/4\n",
        "print(fraction2)  # Output: 5/8\n"
      ],
      "metadata": {
        "colab": {
          "base_uri": "https://localhost:8080/"
        },
        "id": "JHfoHlkwJdzo",
        "outputId": "b215a850-0a3e-46ed-9df9-05a6db77f579"
      },
      "execution_count": 10,
      "outputs": [
        {
          "output_type": "stream",
          "name": "stdout",
          "text": [
            "3/4\n",
            "5/8\n"
          ]
        }
      ]
    },
    {
      "cell_type": "code",
      "source": [
        "# 10.Demonstrate operator overloading by creating a class Vector and overriding the add method to add two\n",
        "#vectors.\n",
        "\n",
        "class Vector:\n",
        "    def __init__(self, x, y):\n",
        "        self.x = x\n",
        "        self.y = y\n",
        "\n",
        "    # Overloading the '+' operator using the __add__ method\n",
        "    def __add__(self, other):\n",
        "        # Adding corresponding components of the vectors\n",
        "        if isinstance(other, Vector):\n",
        "            return Vector(self.x + other.x, self.y + other.y)\n",
        "        else:\n",
        "            raise TypeError(\"Operands must be of type 'Vector'\")\n",
        "\n",
        "    # Method to display the vector\n",
        "    def __str__(self):\n",
        "        return f\"({self.x}, {self.y})\"\n",
        "\n",
        "# Testing the Vector class with operator overloading\n",
        "\n",
        "# Creating two vectors\n",
        "v1 = Vector(2, 3)\n",
        "v2 = Vector(4, 5)\n",
        "\n",
        "# Adding the two vectors using the overloaded '+' operator\n",
        "v3 = v1 + v2\n",
        "\n",
        "# Printing the result\n",
        "print(f\"v1: {v1}\")\n",
        "print(f\"v2: {v2}\")\n",
        "print(f\"v3 (v1 + v2): {v3}\")\n"
      ],
      "metadata": {
        "colab": {
          "base_uri": "https://localhost:8080/"
        },
        "id": "P7ygQzTzJqKI",
        "outputId": "4447a041-5256-4ab2-a745-718a319a11a3"
      },
      "execution_count": 11,
      "outputs": [
        {
          "output_type": "stream",
          "name": "stdout",
          "text": [
            "v1: (2, 3)\n",
            "v2: (4, 5)\n",
            "v3 (v1 + v2): (6, 8)\n"
          ]
        }
      ]
    },
    {
      "cell_type": "code",
      "source": [
        "# 11.Create a class Person with attributes name and age. Add a method greet() that prints \"Hello, my name is\n",
        "#{name} and I am {age} years old.\"\n",
        "\n",
        "class Person:\n",
        "    def __init__(self, name, age):\n",
        "        # Initialize the attributes\n",
        "        self.name = name\n",
        "        self.age = age\n",
        "\n",
        "    def greet(self):\n",
        "        # Method to greet the person with their name and age\n",
        "        print(f\"Hello, my name is {self.name} and I am {self.age} years old.\")\n",
        "\n",
        "# Testing the Person class\n",
        "\n",
        "# Creating an instance of the Person class\n",
        "person1 = Person(\"Alice\", 30)\n",
        "\n",
        "# Calling the greet method\n",
        "person1.greet()  # Output: Hello, my name is Alice and I am 30 years old.\n",
        "\n",
        "# Creating another instance of the Person class\n",
        "person2 = Person(\"Bob\", 25)\n",
        "\n",
        "# Calling the greet method\n",
        "person2.greet()  # Output: Hello, my name is Bob and I am 25 years old.\n"
      ],
      "metadata": {
        "colab": {
          "base_uri": "https://localhost:8080/"
        },
        "id": "SBkafr3jJ2ze",
        "outputId": "62414321-d0d0-4a37-ed8d-5e7800133f0f"
      },
      "execution_count": 12,
      "outputs": [
        {
          "output_type": "stream",
          "name": "stdout",
          "text": [
            "Hello, my name is Alice and I am 30 years old.\n",
            "Hello, my name is Bob and I am 25 years old.\n"
          ]
        }
      ]
    },
    {
      "cell_type": "code",
      "source": [
        "# 12.Implement a class Student with attributes name and grades. Create a method average_grade() to compute\n",
        "#the average of the grades.\n",
        "\n",
        "class Student:\n",
        "    def __init__(self, name, grades):\n",
        "        # Initialize the attributes\n",
        "        self.name = name\n",
        "        self.grades = grades  # grades should be a list of numeric values\n",
        "\n",
        "    def average_grade(self):\n",
        "        # Method to compute the average of the grades\n",
        "        if len(self.grades) == 0:\n",
        "            return 0  # To avoid division by zero\n",
        "        return sum(self.grades) / len(self.grades)\n",
        "\n",
        "# Testing the Student class\n",
        "\n",
        "# Creating a Student instance\n",
        "student1 = Student(\"Alice\", [90, 80, 85, 88, 92])\n",
        "\n",
        "# Calling the average_grade method\n",
        "average1 = student1.average_grade()\n",
        "print(f\"{student1.name}'s average grade: {average1}\")  # Output: Alice's average grade: 87.0\n",
        "\n",
        "# Creating another Student instance\n",
        "student2 = Student(\"Bob\", [75, 78, 82, 88, 85])\n",
        "\n",
        "# Calling the average_grade method\n",
        "average2 = student2.average_grade()\n",
        "print(f\"{student2.name}'s average grade: {average2}\")  # Output: Bob's average grade: 81.6\n"
      ],
      "metadata": {
        "colab": {
          "base_uri": "https://localhost:8080/"
        },
        "id": "SvB2xXQXKHPP",
        "outputId": "9b0e5096-2843-486d-e611-ccea53c96726"
      },
      "execution_count": 13,
      "outputs": [
        {
          "output_type": "stream",
          "name": "stdout",
          "text": [
            "Alice's average grade: 87.0\n",
            "Bob's average grade: 81.6\n"
          ]
        }
      ]
    },
    {
      "cell_type": "code",
      "source": [
        "# 13.Create a class Rectangle with methods set_dimensions() to set the dimensions and area() to calculate the\n",
        "#area.\n",
        "\n",
        "class Rectangle:\n",
        "    def __init__(self):\n",
        "        # Initialize length and width to zero\n",
        "        self.length = 0\n",
        "        self.width = 0\n",
        "\n",
        "    def set_dimensions(self, length, width):\n",
        "        \"\"\"Method to set the dimensions of the rectangle.\"\"\"\n",
        "        self.length = length\n",
        "        self.width = width\n",
        "\n",
        "    def area(self):\n",
        "        \"\"\"Method to calculate the area of the rectangle.\"\"\"\n",
        "        return self.length * self.width\n",
        "\n",
        "# Testing the Rectangle class\n",
        "\n",
        "# Create an instance of Rectangle\n",
        "rectangle = Rectangle()\n",
        "\n",
        "# Set dimensions using the set_dimensions method\n",
        "rectangle.set_dimensions(5, 3)\n",
        "\n",
        "# Calculate and print the area\n",
        "area = rectangle.area()\n",
        "print(f\"The area of the rectangle is: {area}\")  # Output: The area of the rectangle is: 15\n"
      ],
      "metadata": {
        "colab": {
          "base_uri": "https://localhost:8080/"
        },
        "id": "-DlTvXM8KT39",
        "outputId": "e66e6795-bc46-44f5-c67e-76f5e506d245"
      },
      "execution_count": 14,
      "outputs": [
        {
          "output_type": "stream",
          "name": "stdout",
          "text": [
            "The area of the rectangle is: 15\n"
          ]
        }
      ]
    },
    {
      "cell_type": "code",
      "source": [
        "# 14.Create a class Employee with a method calculate_salary() that computes the salary based on hours worked\n",
        "#and hourly rate. Create a derived class Manager that adds a bonus to the salary.\n",
        "\n",
        "class Employee:\n",
        "    def __init__(self, name, hours_worked, hourly_rate):\n",
        "        # Initialize the attributes of Employee\n",
        "        self.name = name\n",
        "        self.hours_worked = hours_worked\n",
        "        self.hourly_rate = hourly_rate\n",
        "\n",
        "    def calculate_salary(self):\n",
        "        \"\"\"Method to calculate the salary based on hours worked and hourly rate.\"\"\"\n",
        "        return self.hours_worked * self.hourly_rate\n",
        "\n",
        "class Manager(Employee):\n",
        "    def __init__(self, name, hours_worked, hourly_rate, bonus):\n",
        "        # Initialize the attributes of Manager, including the bonus\n",
        "        super().__init__(name, hours_worked, hourly_rate)\n",
        "        self.bonus = bonus\n",
        "\n",
        "    def calculate_salary(self):\n",
        "        \"\"\"Override calculate_salary to include the bonus for Manager.\"\"\"\n",
        "        base_salary = super().calculate_salary()\n",
        "        return base_salary + self.bonus\n",
        "\n",
        "# Testing the Employee and Manager classes\n",
        "\n",
        "# Creating an Employee instance\n",
        "employee = Employee(\"Alice\", 40, 25)  # 40 hours worked at $25 per hour\n",
        "\n",
        "# Calculating salary for Employee\n",
        "employee_salary = employee.calculate_salary()\n",
        "print(f\"{employee.name}'s salary: ${employee_salary}\")  # Output: Alice's salary: $1000\n",
        "\n",
        "# Creating a Manager instance\n",
        "manager = Manager(\"Bob\", 40, 30, 500)  # 40 hours worked at $30 per hour, with a $500 bonus\n",
        "\n",
        "# Calculating salary for Manager\n",
        "manager_salary = manager.calculate_salary()\n",
        "print(f\"{manager.name}'s salary: ${manager_salary}\")  # Output: Bob's salary: $1700\n"
      ],
      "metadata": {
        "colab": {
          "base_uri": "https://localhost:8080/"
        },
        "id": "xVt4Zg7aKhdg",
        "outputId": "6643b542-8cd4-4ec4-a850-4fb24128cafd"
      },
      "execution_count": 15,
      "outputs": [
        {
          "output_type": "stream",
          "name": "stdout",
          "text": [
            "Alice's salary: $1000\n",
            "Bob's salary: $1700\n"
          ]
        }
      ]
    },
    {
      "cell_type": "code",
      "source": [
        "# 15.Create a class Product with attributes name, price, and quantity. Implement a method total_price() that\n",
        "#calculates the total price of the product.\n",
        "\n",
        "class Product:\n",
        "    def __init__(self, name, price, quantity):\n",
        "        # Initialize the attributes\n",
        "        self.name = name\n",
        "        self.price = price\n",
        "        self.quantity = quantity\n",
        "\n",
        "    def total_price(self):\n",
        "        \"\"\"Method to calculate the total price of the product.\"\"\"\n",
        "        return self.price * self.quantity\n",
        "\n",
        "# Testing the Product class\n",
        "\n",
        "# Creating an instance of the Product class\n",
        "product1 = Product(\"Laptop\", 1000, 3)\n",
        "\n",
        "# Calling the total_price method\n",
        "total = product1.total_price()\n",
        "\n",
        "# Displaying the result\n",
        "print(f\"Total price for {product1.quantity} {product1.name}(s): ${total}\")  # Output: Total price for 3 Laptop(s): $3000\n"
      ],
      "metadata": {
        "colab": {
          "base_uri": "https://localhost:8080/"
        },
        "id": "PwFZ_RPjKwq4",
        "outputId": "2e67e70e-7733-4fa8-eee4-50204bb29442"
      },
      "execution_count": 16,
      "outputs": [
        {
          "output_type": "stream",
          "name": "stdout",
          "text": [
            "Total price for 3 Laptop(s): $3000\n"
          ]
        }
      ]
    },
    {
      "cell_type": "code",
      "source": [
        "# 16.Create a class Animal with an abstract method sound(). Create two derived classes Cow and Sheep that\n",
        "#implement the sound() method.\n",
        "\n",
        "from abc import ABC, abstractmethod\n",
        "\n",
        "# Abstract base class Animal\n",
        "class Animal(ABC):\n",
        "    @abstractmethod\n",
        "    def sound(self):\n",
        "        \"\"\"Abstract method to be implemented by subclasses.\"\"\"\n",
        "        pass\n",
        "\n",
        "# Derived class Cow\n",
        "class Cow(Animal):\n",
        "    def sound(self):\n",
        "        return \"Moo\"\n",
        "\n",
        "# Derived class Sheep\n",
        "class Sheep(Animal):\n",
        "    def sound(self):\n",
        "        return \"Baa\"\n",
        "\n",
        "# Testing the classes\n",
        "\n",
        "# Creating instances of Cow and Sheep\n",
        "cow = Cow()\n",
        "sheep = Sheep()\n",
        "\n",
        "# Calling the sound method on both instances\n",
        "print(f\"Cow says: {cow.sound()}\")  # Output: Cow says: Moo\n",
        "print(f\"Sheep says: {sheep.sound()}\")  # Output: Sheep says: Baa\n"
      ],
      "metadata": {
        "colab": {
          "base_uri": "https://localhost:8080/"
        },
        "id": "MVCJ5tJ4LZEK",
        "outputId": "76a43941-d602-47b0-a665-be7c4e58e5b3"
      },
      "execution_count": 17,
      "outputs": [
        {
          "output_type": "stream",
          "name": "stdout",
          "text": [
            "Cow says: Moo\n",
            "Sheep says: Baa\n"
          ]
        }
      ]
    },
    {
      "cell_type": "code",
      "source": [
        "# 17.Create a class Book with attributes title, author, and year_published. Add a method get_book_info() that\n",
        "#returns a formatted string with the book's details.\n",
        "\n",
        "class Book:\n",
        "    def __init__(self, title, author, year_published):\n",
        "        # Initialize the attributes\n",
        "        self.title = title\n",
        "        self.author = author\n",
        "        self.year_published = year_published\n",
        "\n",
        "    def get_book_info(self):\n",
        "        \"\"\"Method to return a formatted string with the book's details.\"\"\"\n",
        "        return f\"Title: {self.title}\\nAuthor: {self.author}\\nYear Published: {self.year_published}\"\n",
        "\n",
        "# Testing the Book class\n",
        "\n",
        "# Creating an instance of the Book class\n",
        "book1 = Book(\"1984\", \"George Orwell\", 1949)\n",
        "\n",
        "# Calling the get_book_info method\n",
        "book_info = book1.get_book_info()\n",
        "\n",
        "# Displaying the result\n",
        "print(book_info)\n"
      ],
      "metadata": {
        "colab": {
          "base_uri": "https://localhost:8080/"
        },
        "id": "uQrOIvHdLmAa",
        "outputId": "e24fd8e9-5de2-4611-87f4-0e0201101a05"
      },
      "execution_count": 18,
      "outputs": [
        {
          "output_type": "stream",
          "name": "stdout",
          "text": [
            "Title: 1984\n",
            "Author: George Orwell\n",
            "Year Published: 1949\n"
          ]
        }
      ]
    },
    {
      "cell_type": "code",
      "source": [
        "# 18.Create a class House with attributes address and price. Create a derived class Mansion that adds an\n",
        "#attribute number_of_rooms.\n",
        "\n",
        "# Base class House\n",
        "class House:\n",
        "    def __init__(self, address, price):\n",
        "        # Initialize the attributes for the house\n",
        "        self.address = address\n",
        "        self.price = price\n",
        "\n",
        "    def get_house_info(self):\n",
        "        \"\"\"Method to return a formatted string with the house's details.\"\"\"\n",
        "        return f\"Address: {self.address}\\nPrice: ${self.price}\"\n",
        "\n",
        "# Derived class Mansion\n",
        "class Mansion(House):\n",
        "    def __init__(self, address, price, number_of_rooms):\n",
        "        # Initialize the attributes for the mansion, including the number of rooms\n",
        "        super().__init__(address, price)  # Call the base class constructor\n",
        "        self.number_of_rooms = number_of_rooms\n",
        "\n",
        "    def get_mansion_info(self):\n",
        "        \"\"\"Method to return a formatted string with the mansion's details, including rooms.\"\"\"\n",
        "        house_info = super().get_house_info()  # Get base class house info\n",
        "        return f\"{house_info}\\nNumber of Rooms: {self.number_of_rooms}\"\n",
        "\n",
        "# Testing the House and Mansion classes\n",
        "\n",
        "# Creating an instance of the House class\n",
        "house = House(\"123 Main St\", 250000)\n",
        "\n",
        "# Calling the get_house_info method\n",
        "print(\"House Info:\")\n",
        "print(house.get_house_info())\n",
        "print()\n",
        "\n",
        "# Creating an instance of the Mansion class\n",
        "mansion = Mansion(\"456 Luxury Ave\", 10000000, 12)\n",
        "\n",
        "# Calling the get_mansion_info method\n",
        "print(\"Mansion Info:\")\n",
        "print(mansion.get_mansion_info())\n"
      ],
      "metadata": {
        "colab": {
          "base_uri": "https://localhost:8080/"
        },
        "id": "5LMEnq9TLycV",
        "outputId": "15c51289-2449-48db-a4df-a7da37ddc8ac"
      },
      "execution_count": 19,
      "outputs": [
        {
          "output_type": "stream",
          "name": "stdout",
          "text": [
            "House Info:\n",
            "Address: 123 Main St\n",
            "Price: $250000\n",
            "\n",
            "Mansion Info:\n",
            "Address: 456 Luxury Ave\n",
            "Price: $10000000\n",
            "Number of Rooms: 12\n"
          ]
        }
      ]
    }
  ]
}