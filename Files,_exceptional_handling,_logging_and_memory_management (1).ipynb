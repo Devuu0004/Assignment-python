{
 "cells": [
  {
   "cell_type": "code",
   "execution_count": 1,
   "metadata": {
    "colab": {
     "base_uri": "https://localhost:8080/",
     "height": 228
    },
    "id": "1kDjt3IJa98n",
    "outputId": "8a52ef2f-ebcb-477a-a3ba-c6f63cbf9289"
   },
   "outputs": [
    {
     "name": "stdout",
     "output_type": "stream",
     "text": [
      "Division by zero error\n"
     ]
    },
    {
     "ename": "ValueError",
     "evalue": "This is a manually raised exception",
     "output_type": "error",
     "traceback": [
      "\u001b[0;31m---------------------------------------------------------------------------\u001b[0m",
      "\u001b[0;31mValueError\u001b[0m                                Traceback (most recent call last)",
      "\u001b[0;32m<ipython-input-1-6c41191f7730>\u001b[0m in \u001b[0;36m<cell line: 0>\u001b[0;34m()\u001b[0m\n\u001b[1;32m     76\u001b[0m \u001b[0;34m\u001b[0m\u001b[0m\n\u001b[1;32m     77\u001b[0m \u001b[0;31m# 24. How do you raise an exception manually in Python?\u001b[0m\u001b[0;34m\u001b[0m\u001b[0;34m\u001b[0m\u001b[0m\n\u001b[0;32m---> 78\u001b[0;31m \u001b[0;32mraise\u001b[0m \u001b[0mValueError\u001b[0m\u001b[0;34m(\u001b[0m\u001b[0;34m\"This is a manually raised exception\"\u001b[0m\u001b[0;34m)\u001b[0m\u001b[0;34m\u001b[0m\u001b[0;34m\u001b[0m\u001b[0m\n\u001b[0m\u001b[1;32m     79\u001b[0m \u001b[0;34m\u001b[0m\u001b[0m\n\u001b[1;32m     80\u001b[0m \u001b[0;31m# 25. Why is it important to use multithreading in certain applications?\u001b[0m\u001b[0;34m\u001b[0m\u001b[0;34m\u001b[0m\u001b[0m\n",
      "\u001b[0;31mValueError\u001b[0m: This is a manually raised exception"
     ]
    }
   ],
   "source": [
    "# Files, Exception Handling, Logging, and Memory Management\n",
    "\n",
    "# 1. What is the difference between interpreted and compiled languages?\n",
    "# Interpreted languages run code line by line (e.g., Python), while compiled languages translate the whole code into machine code before execution (e.g., C++).\n",
    "\n",
    "# 2. What is exception handling in Python?\n",
    "# Exception handling is a way to gracefully manage runtime errors using try, except, else, and finally blocks.\n",
    "\n",
    "# 3. What is the purpose of the finally block in exception handling?\n",
    "# The finally block contains code that will run no matter what, whether an exception occurs or not—typically used for cleanup.\n",
    "\n",
    "# 4. What is logging in Python?\n",
    "# Logging provides a way to track events during program execution, useful for debugging and auditing.\n",
    "\n",
    "# 5. What is the significance of the __del__ method in Python?\n",
    "# The __del__ method is called when an object is about to be destroyed, useful for resource cleanup.\n",
    "\n",
    "# 6. What is the difference between import and from ... import in Python?\n",
    "# 'import module' imports the whole module, while 'from module import something' imports specific components.\n",
    "\n",
    "# 7. How can you handle multiple exceptions in Python?\n",
    "try:\n",
    "    x = 10 / 0\n",
    "except ZeroDivisionError:\n",
    "    print(\"Division by zero error\")\n",
    "except Exception as e:\n",
    "    print(\"General exception:\", e)\n",
    "\n",
    "# 8. What is the purpose of the with statement when handling files in Python?\n",
    "# The with statement automatically handles opening and closing of files, ensuring proper resource management.\n",
    "\n",
    "# 9. What is the difference between multithreading and multiprocessing?\n",
    "# Multithreading runs multiple threads in a single process, while multiprocessing runs multiple processes, each with its own memory space.\n",
    "\n",
    "# 10. What are the advantages of using logging in a program?\n",
    "# Logging helps in debugging, monitoring, and keeping a permanent record of program execution.\n",
    "\n",
    "# 11. What is memory management in Python?\n",
    "# Memory management handles the allocation and deallocation of memory, using automatic garbage collection.\n",
    "\n",
    "# 12. What are the basic steps involved in exception handling in Python?\n",
    "# Use try to wrap code, except to handle errors, else for code that runs if no error occurs, and finally for cleanup.\n",
    "\n",
    "# 13. Why is memory management important in Python?\n",
    "# Efficient memory management ensures optimal performance and prevents memory leaks.\n",
    "\n",
    "# 14. What is the role of try and except in exception handling?\n",
    "# try contains code that might raise an exception, and except handles the error if it occurs.\n",
    "\n",
    "# 15. How does Python's garbage collection system work?\n",
    "# It uses reference counting and a cyclic garbage collector to clean up unused memory.\n",
    "\n",
    "# 16. What is the purpose of the else block in exception handling?\n",
    "# The else block runs only if no exception is raised in the try block.\n",
    "\n",
    "# 17. What are the common logging levels in Python?\n",
    "# DEBUG, INFO, WARNING, ERROR, CRITICAL.\n",
    "\n",
    "# 18. What is the difference between os.fork() and multiprocessing in Python?\n",
    "# os.fork() is Unix-specific and creates a child process. multiprocessing is cross-platform and more versatile.\n",
    "\n",
    "# 19. What is the importance of closing a file in Python?\n",
    "# It frees up system resources and ensures data is properly written to disk.\n",
    "\n",
    "# 20. What is the difference between file.read() and file.readline() in Python?\n",
    "# file.read() reads the whole file at once, file.readline() reads one line at a time.\n",
    "\n",
    "# 21. What is the logging module in Python used for?\n",
    "# It's used for tracking events during program execution with different severity levels.\n",
    "\n",
    "# 22. What is the os module in Python used for in file handling?\n",
    "# It's used for interacting with the operating system, like file manipulation and directory operations.\n",
    "\n",
    "# 23. What are the challenges associated with memory management in Python?\n",
    "# Dealing with cyclic references, memory leaks, and large object storage.\n",
    "\n",
    "# 24. How do you raise an exception manually in Python?\n",
    "raise ValueError(\"This is a manually raised exception\")\n",
    "\n",
    "# 25. Why is it important to use multithreading in certain applications?\n",
    "# It improves performance in I/O-bound tasks by running multiple threads simultaneously.\n",
    "\n",
    "# PRACTICAL QUESTIONS\n",
    "\n",
    "\n",
    "\n",
    "\n",
    "# 43. Logging with rotation after 1MB\n",
    "from logging.handlers import RotatingFileHandler\n",
    "handler = RotatingFileHandler(\"rotating.log\", maxBytes=1_000_000, backupCount=5)\n",
    "logger = logging.getLogger()\n",
    "logger.setLevel(logging.DEBUG)\n",
    "logger.addHandler(handler)\n",
    "logger.debug(\"This is a debug message.\")\n",
    "\n",
    "# 44. Open file using context manager\n",
    "with open(\"example.txt\", \"r\") as f:\n",
    "    data = f.read()\n",
    "\n",
    "# 45. Count word occurrences\n",
    "word = \"hello\"\n",
    "with open(\"example.txt\", \"r\") as f:\n",
    "    content = f.read()\n",
    "    count = content.lower().count(word.lower())\n",
    "    print(f\"The word '{word}' appears {count} times.\")\n",
    "\n",
    "# 46. Check if file is empty\n",
    "if os.path.exists(\"example.txt\") and os.stat(\"example.txt\").st_size == 0:\n",
    "    print(\"File is empty\")\n",
    "else:\n",
    "    print(\"File has content\")\n",
    "\n",
    "# 47. Log error during file handling\n",
    "try:\n",
    "    with open(\"nonexistent.txt\", \"r\") as f:\n",
    "        f.read()\n",
    "except Exception as e:\n",
    "    logging.error(\"Error reading file: %s\", e)\n"
   ]
  },
  {
   "cell_type": "code",
   "execution_count": 1,
   "metadata": {
    "id": "qb3Zv9I6cZMl"
   },
   "outputs": [
    {
     "name": "stdout",
     "output_type": "stream",
     "text": [
      "String has been written to 'example.txt'\n"
     ]
    }
   ],
   "source": [
    "# 26. How can you open a file for writing in Python and write a string to it?\n",
    "# Open the file in write mode and write a string to it\n",
    "with open(\"example.txt\", \"w\") as file:\n",
    "    file.write(\"Hello, this is a string written to the file.\")\n",
    "\n",
    "# Print confirmation\n",
    "print(\"String has been written to 'example.txt'\")\n"
   ]
  },
  {
   "cell_type": "code",
   "execution_count": 2,
   "metadata": {},
   "outputs": [
    {
     "name": "stdout",
     "output_type": "stream",
     "text": [
      "Hello, world!\n"
     ]
    }
   ],
   "source": [
    "\n",
    "# 27. Write a Python program to read the contents of a file and print each line\n",
    "with open(\"example.txt\", \"r\") as file:\n",
    "    for line in file:\n",
    "        print(line.strip())\n"
   ]
  },
  {
   "cell_type": "code",
   "execution_count": 3,
   "metadata": {},
   "outputs": [
    {
     "name": "stdout",
     "output_type": "stream",
     "text": [
      "File not found.\n"
     ]
    }
   ],
   "source": [
    "# 28. Handle a case where the file doesn't exist while trying to open it\n",
    "try:\n",
    "    with open(\"nonexistent.txt\", \"r\") as file:\n",
    "        print(file.read())\n",
    "except FileNotFoundError:\n",
    "    print(\"File not found.\")"
   ]
  },
  {
   "cell_type": "code",
   "execution_count": 2,
   "metadata": {},
   "outputs": [
    {
     "name": "stdout",
     "output_type": "stream",
     "text": [
      "Content of copy.txt: This is the original content from example.txt\n"
     ]
    }
   ],
   "source": [
    "# 29. Read from one file and write its content to another file\n",
    "# Write some initial content to example.txt\n",
    "with open(\"example.txt\", \"w\") as file:\n",
    "    file.write(\"This is the original content from example.txt\")\n",
    "\n",
    "# Copy content from example.txt to copy.txt\n",
    "with open(\"example.txt\", \"r\") as src, open(\"copy.txt\", \"w\") as dest:\n",
    "    dest.write(src.read())\n",
    "\n",
    "# Read and print the content of copy.txt to verify\n",
    "with open(\"copy.txt\", \"r\") as file:\n",
    "    content = file.read()\n",
    "    print(\"Content of copy.txt:\", content)\n",
    "\n"
   ]
  },
  {
   "cell_type": "code",
   "execution_count": 3,
   "metadata": {},
   "outputs": [
    {
     "name": "stdout",
     "output_type": "stream",
     "text": [
      "Cannot divide by zero.\n"
     ]
    }
   ],
   "source": [
    "# 30. Catch and handle division by zero error in Python\n",
    "try:\n",
    "    a = 10 / 0\n",
    "except ZeroDivisionError:\n",
    "    print(\"Cannot divide by zero.\")"
   ]
  },
  {
   "cell_type": "code",
   "execution_count": 6,
   "metadata": {},
   "outputs": [],
   "source": [
    "# 31. Log an error message to a log file when a division by zero exception occurs\n",
    "import logging\n",
    "\n",
    "# Set up logging to write ERROR level messages to 'error.log'\n",
    "logging.basicConfig(filename=\"error.log\", level=logging.ERROR)\n",
    "\n",
    "try:\n",
    "    result = 10 / 0\n",
    "except ZeroDivisionError as e:\n",
    "    logging.error(\"Division by zero occurred: %s\", e)\n"
   ]
  },
  {
   "cell_type": "code",
   "execution_count": 7,
   "metadata": {},
   "outputs": [
    {
     "name": "stdout",
     "output_type": "stream",
     "text": [
      "An error occurred while opening the file.\n"
     ]
    }
   ],
   "source": [
    "# 33. Handle a file opening error using exception handling\n",
    "try:\n",
    "    with open(\"unknown.txt\", \"r\") as f:\n",
    "        data = f.read()\n",
    "except IOError:\n",
    "    print(\"An error occurred while opening the file.\")"
   ]
  },
  {
   "cell_type": "code",
   "execution_count": 8,
   "metadata": {},
   "outputs": [
    {
     "name": "stdout",
     "output_type": "stream",
     "text": [
      "List of lines from the file:\n",
      "['Line 1: Hello\\n', 'Line 2: Welcome to Python\\n', 'Line 3: Reading files is fun!\\n']\n"
     ]
    }
   ],
   "source": [
    "# 34. Read a file line by line and store in list\n",
    "# Step 1: Create a sample file with multiple lines\n",
    "with open(\"sample.txt\", \"w\") as file:\n",
    "    file.write(\"Line 1: Hello\\n\")\n",
    "    file.write(\"Line 2: Welcome to Python\\n\")\n",
    "    file.write(\"Line 3: Reading files is fun!\\n\")\n",
    "\n",
    "# Step 2: Read the file line by line and store in a list\n",
    "with open(\"sample.txt\", \"r\") as file:\n",
    "    lines = file.readlines()\n",
    "\n",
    "# Step 3: Print the list\n",
    "print(\"List of lines from the file:\")\n",
    "print(lines)\n"
   ]
  },
  {
   "cell_type": "code",
   "execution_count": 9,
   "metadata": {},
   "outputs": [
    {
     "name": "stdout",
     "output_type": "stream",
     "text": [
      "Content of example.txt after appending:\n",
      "Original line.\n",
      "New line added.\n"
     ]
    }
   ],
   "source": [
    "# 35. Append data to an existing file\n",
    "# First, let's write some initial content to the file\n",
    "with open(\"example.txt\", \"w\") as f:\n",
    "    f.write(\"Original line.\")\n",
    "\n",
    "# Now append a new line to the existing file\n",
    "with open(\"example.txt\", \"a\") as f:\n",
    "    f.write(\"\\nNew line added.\")\n",
    "\n",
    "# Read and print the content to show the result\n",
    "with open(\"example.txt\", \"r\") as f:\n",
    "    content = f.read()\n",
    "    print(\"Content of example.txt after appending:\")\n",
    "    print(content)\n"
   ]
  },
  {
   "cell_type": "code",
   "execution_count": 10,
   "metadata": {},
   "outputs": [
    {
     "name": "stdout",
     "output_type": "stream",
     "text": [
      "Key not found.\n"
     ]
    }
   ],
   "source": [
    "# 36. Handle KeyError in dictionary\n",
    "my_dict = {\"a\": 1}\n",
    "try:\n",
    "    value = my_dict[\"b\"]\n",
    "except KeyError:\n",
    "    print(\"Key not found.\")\n"
   ]
  },
  {
   "cell_type": "code",
   "execution_count": 11,
   "metadata": {},
   "outputs": [
    {
     "name": "stdout",
     "output_type": "stream",
     "text": [
      "Index out of range.\n"
     ]
    }
   ],
   "source": [
    "# 37. Handle IndexError and KeyError\n",
    "try:\n",
    "    my_list = [1, 2]\n",
    "    print(my_list[5])\n",
    "except IndexError:\n",
    "    print(\"Index out of range.\")\n",
    "except KeyError:\n",
    "    print(\"Key error.\")\n"
   ]
  },
  {
   "cell_type": "code",
   "execution_count": 12,
   "metadata": {},
   "outputs": [
    {
     "name": "stdout",
     "output_type": "stream",
     "text": [
      "Original line.\n",
      "New line added.\n"
     ]
    }
   ],
   "source": [
    "# 38. Check if a file exists before reading\n",
    "import os\n",
    "if os.path.exists(\"example.txt\"):\n",
    "    with open(\"example.txt\") as f:\n",
    "        print(f.read())\n",
    "else:\n",
    "    print(\"File does not exist.\")\n",
    "\n",
    "# 39. Log info and error\n",
    "logging.basicConfig(filename=\"app.log\", level=logging.DEBUG)\n",
    "logging.info(\"Info log entry.\")\n",
    "try:\n",
    "    1 / 0\n",
    "except ZeroDivisionError as e:\n",
    "    logging.error(\"Error occurred: %s\", e)\n"
   ]
  },
  {
   "cell_type": "code",
   "execution_count": 14,
   "metadata": {},
   "outputs": [],
   "source": [
    "# 39. Log info and error\n",
    "import logging\n",
    "\n",
    "# Set up logging to write to a file\n",
    "logging.basicConfig(filename=\"app.log\", level=logging.DEBUG)\n",
    "\n",
    "# Log an info message\n",
    "logging.info(\"Info log entry.\")\n",
    "\n",
    "# Log an error if division by zero occurs\n",
    "try:\n",
    "    1 / 0\n",
    "except ZeroDivisionError as e:\n",
    "    logging.error(\"Error occurred: %s\", e)\n"
   ]
  },
  {
   "cell_type": "code",
   "execution_count": 15,
   "metadata": {},
   "outputs": [
    {
     "name": "stdout",
     "output_type": "stream",
     "text": [
      "Original line.\n",
      "New line added.\n"
     ]
    }
   ],
   "source": [
    "# 40. Print file content and handle empty file\n",
    "with open(\"example.txt\", \"r\") as f:\n",
    "    content = f.read()\n",
    "    if content:\n",
    "        print(content)\n",
    "    else:\n",
    "        print(\"File is empty.\")"
   ]
  },
  {
   "cell_type": "code",
   "execution_count": null,
   "metadata": {},
   "outputs": [],
   "source": []
  }
 ],
 "metadata": {
  "colab": {
   "provenance": []
  },
  "kernelspec": {
   "display_name": "Python 3 (ipykernel)",
   "language": "python",
   "name": "python3"
  },
  "language_info": {
   "codemirror_mode": {
    "name": "ipython",
    "version": 3
   },
   "file_extension": ".py",
   "mimetype": "text/x-python",
   "name": "python",
   "nbconvert_exporter": "python",
   "pygments_lexer": "ipython3",
   "version": "3.13.2"
  }
 },
 "nbformat": 4,
 "nbformat_minor": 4
}
