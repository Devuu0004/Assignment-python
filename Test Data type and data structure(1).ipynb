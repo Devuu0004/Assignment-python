{
 "cells": [
  {
   "cell_type": "markdown",
   "id": "e2eb6d7f-25e3-4201-b737-94ee28f06a4e",
   "metadata": {},
   "source": [
    "Practical Question "
   ]
  },
  {
   "cell_type": "markdown",
   "id": "1988d41d-5e4d-427e-8aea-e05ab2aa1a6c",
   "metadata": {},
   "source": [
    "1. Write a code to create a string with your name and print it ?"
   ]
  },
  {
   "cell_type": "code",
   "execution_count": 1,
   "id": "cc9f3089-a7e5-407f-a7b9-4cfe56dbf1b8",
   "metadata": {},
   "outputs": [
    {
     "name": "stdout",
     "output_type": "stream",
     "text": [
      "Devesh Upadhyay\n"
     ]
    }
   ],
   "source": [
    "your_name = \"Devesh Upadhyay\"\n",
    "print(your_name)"
   ]
  },
  {
   "cell_type": "markdown",
   "id": "864240f5-0fe7-4e92-b021-a9a2ca8451dd",
   "metadata": {},
   "source": [
    "2.  Write a code to find the length of the string \"Hello World\""
   ]
  },
  {
   "cell_type": "code",
   "execution_count": 2,
   "id": "69346798-087c-44cb-8b68-d3f36eb3859c",
   "metadata": {},
   "outputs": [
    {
     "name": "stdout",
     "output_type": "stream",
     "text": [
      "11\n"
     ]
    }
   ],
   "source": [
    "var = \"Hello World\"\n",
    "print(len(var))"
   ]
  },
  {
   "cell_type": "markdown",
   "id": "dc3f82ce-2fe8-4be5-a948-9395c374b9e7",
   "metadata": {},
   "source": [
    "3. Write a code to slice the first 3 characters from the string \"Python Programming\""
   ]
  },
  {
   "cell_type": "code",
   "execution_count": 3,
   "id": "ec5a279d-0e4d-4199-be6d-0208b470612d",
   "metadata": {},
   "outputs": [
    {
     "name": "stdout",
     "output_type": "stream",
     "text": [
      "Pyt\n"
     ]
    }
   ],
   "source": [
    "var = \"Python Programming\"\n",
    "print(var[:3])"
   ]
  },
  {
   "cell_type": "markdown",
   "id": "320f4780-1ccb-40c4-a2d9-fda6ae51e579",
   "metadata": {},
   "source": [
    "4.  Write a code to convert the string \"hello\" to uppercase"
   ]
  },
  {
   "cell_type": "code",
   "execution_count": 4,
   "id": "9204244a-4ecf-4333-835f-450c500defff",
   "metadata": {},
   "outputs": [
    {
     "name": "stdout",
     "output_type": "stream",
     "text": [
      "HELLO\n"
     ]
    }
   ],
   "source": [
    "var = \"hello\"\n",
    "print(var.upper())"
   ]
  },
  {
   "cell_type": "markdown",
   "id": "6106b17d-6877-47fb-9bec-64b28cc67481",
   "metadata": {},
   "source": [
    "5. Write a code to replace the word \"apple\" with \"orange\" in the string \"I like apple\""
   ]
  },
  {
   "cell_type": "code",
   "execution_count": 6,
   "id": "9240b491-e4e7-4b2b-9d25-6f8733127205",
   "metadata": {},
   "outputs": [
    {
     "name": "stdout",
     "output_type": "stream",
     "text": [
      "I like orange\n"
     ]
    }
   ],
   "source": [
    "var = \"I like apple\"\n",
    "print(var.replace(\"apple\",\"orange\"))"
   ]
  },
  {
   "cell_type": "markdown",
   "id": "62bad9b4-af52-4471-b061-865e177b33ea",
   "metadata": {},
   "source": [
    "6. Write a code to create a list with numbers 1 to 5 and print it\n",
    "   "
   ]
  },
  {
   "cell_type": "code",
   "execution_count": 7,
   "id": "e42c7f28-6f99-4190-95e8-9165765c50f4",
   "metadata": {},
   "outputs": [
    {
     "name": "stdout",
     "output_type": "stream",
     "text": [
      "[1, 2, 3, 4, 5]\n"
     ]
    }
   ],
   "source": [
    "numbers = [1,2,3,4,5]\n",
    "print(numbers)"
   ]
  },
  {
   "cell_type": "markdown",
   "id": "1b7175b4-47ae-4604-a23d-b32d0c38e237",
   "metadata": {},
   "source": [
    "7.  Write a code to append the number 10 to the list [1, 2, 3, 4]"
   ]
  },
  {
   "cell_type": "code",
   "execution_count": 9,
   "id": "d3e1b228-140a-48b1-a380-6c942eab388d",
   "metadata": {},
   "outputs": [
    {
     "name": "stdout",
     "output_type": "stream",
     "text": [
      "[1, 2, 3, 4, 10]\n"
     ]
    }
   ],
   "source": [
    "list = [1,2,3,4]\n",
    "list.append(10)\n",
    "print(list)\n"
   ]
  },
  {
   "cell_type": "markdown",
   "id": "c1e16ece-522a-4c65-bc42-3ede96dae0b5",
   "metadata": {},
   "source": [
    "8.  Write a code to remove the number 3 from the list [1, 2, 3, 4, 5]\n"
   ]
  },
  {
   "cell_type": "code",
   "execution_count": 11,
   "id": "2aa7e5cf-5785-45b0-b7cd-cd639ce887b9",
   "metadata": {},
   "outputs": [
    {
     "name": "stdout",
     "output_type": "stream",
     "text": [
      "[1, 2, 4, 5]\n"
     ]
    }
   ],
   "source": [
    "numbers = [1,2,3,4,5]\n",
    "numbers.remove(3)\n",
    "print(numbers)"
   ]
  },
  {
   "cell_type": "markdown",
   "id": "4e913b67-146f-41dd-9091-62e684c1fe37",
   "metadata": {},
   "source": [
    "9. Write a code to access the second element in the list ['a', 'b', 'c', 'd']"
   ]
  },
  {
   "cell_type": "code",
   "execution_count": 12,
   "id": "ce9c82fe-9c2c-40ec-a73b-4cc5d5246b71",
   "metadata": {},
   "outputs": [
    {
     "name": "stdout",
     "output_type": "stream",
     "text": [
      "b\n"
     ]
    }
   ],
   "source": [
    "letters = ['a','b','c','d']\n",
    "second_element = letters[1]\n",
    "print(second_element)"
   ]
  },
  {
   "cell_type": "markdown",
   "id": "8bb54317-3e8d-42cc-99d4-4004609731d9",
   "metadata": {},
   "source": [
    "10. Write a code to reverse the list [10, 20, 30, 40, 50]"
   ]
  },
  {
   "cell_type": "code",
   "execution_count": 15,
   "id": "58002279-eaae-444b-8c15-82e5388dbbb0",
   "metadata": {},
   "outputs": [
    {
     "name": "stdout",
     "output_type": "stream",
     "text": [
      "[50, 40, 30, 20, 10]\n"
     ]
    }
   ],
   "source": [
    "numbers = [10,20,30,40,50]\n",
    "reverse_numbers = numbers[::-1] \n",
    "print(reverse_numbers)"
   ]
  },
  {
   "cell_type": "markdown",
   "id": "539917c7-5ef7-4b44-989e-765861dc8dcc",
   "metadata": {},
   "source": [
    "11. Write a code to create a tuple with the elements 100, 200, 300 and print it."
   ]
  },
  {
   "cell_type": "code",
   "execution_count": 16,
   "id": "f4d578e7-7c77-4664-bc35-c06ec7f3d908",
   "metadata": {},
   "outputs": [
    {
     "name": "stdout",
     "output_type": "stream",
     "text": [
      "(100, 200, 300) <class 'tuple'>\n"
     ]
    }
   ],
   "source": [
    "elements = (100,200,300)\n",
    "print(elements,type(elements))"
   ]
  },
  {
   "cell_type": "markdown",
   "id": "30175544-30d6-4cb0-902f-7348fd1b0787",
   "metadata": {},
   "source": [
    "12. Write a code to access the second-to-last element of the tuple ('red', 'green', 'blue', 'yellow')."
   ]
  },
  {
   "cell_type": "code",
   "execution_count": 20,
   "id": "3388afe0-a04d-4ff5-a17a-d621905c104b",
   "metadata": {},
   "outputs": [
    {
     "name": "stdout",
     "output_type": "stream",
     "text": [
      "blue\n"
     ]
    }
   ],
   "source": [
    "element =  ('red', 'green', 'blue', 'yellow')\n",
    "second_to_last_element = element[-2]\n",
    "print(second_to_last_element)"
   ]
  },
  {
   "cell_type": "markdown",
   "id": "5d4f0c2b-bb62-4c98-96e9-5ef1703d329c",
   "metadata": {},
   "source": [
    "13. Write a code to find the minimum number in the tuple (10, 20, 5, 15)"
   ]
  },
  {
   "cell_type": "code",
   "execution_count": 23,
   "id": "1e963b62-568a-4299-8a07-3d414fdc38fd",
   "metadata": {},
   "outputs": [
    {
     "name": "stdout",
     "output_type": "stream",
     "text": [
      "5\n"
     ]
    }
   ],
   "source": [
    "number = (10,20,5,15)\n",
    "minimum_number = min(number)\n",
    "print(minimum_number)"
   ]
  },
  {
   "cell_type": "markdown",
   "id": "85690ef2-2922-46cd-952d-170acf59adde",
   "metadata": {},
   "source": [
    "14. Write a code to find the index of the element \"cat\" in the tuple ('dog', 'cat', 'rabbit')."
   ]
  },
  {
   "cell_type": "code",
   "execution_count": 28,
   "id": "6c128e86-730a-4b09-9832-4804f43fd9f2",
   "metadata": {},
   "outputs": [
    {
     "name": "stdout",
     "output_type": "stream",
     "text": [
      "1\n"
     ]
    }
   ],
   "source": [
    "animals = ('dog', 'cat', 'rabbit')\n",
    "cat_index = animals.index('cat')\n",
    "print(cat_index)\n"
   ]
  },
  {
   "cell_type": "markdown",
   "id": "29fe7889-0363-40aa-9899-3fe5c64fced9",
   "metadata": {},
   "source": [
    "15. Write a code to create a tuple containing three different fruits and check if \"kiwi\" is in it."
   ]
  },
  {
   "cell_type": "code",
   "execution_count": 26,
   "id": "2be4af1a-cb45-4bc2-99b8-61c60fb7fdde",
   "metadata": {},
   "outputs": [
    {
     "name": "stdout",
     "output_type": "stream",
     "text": [
      "No, 'kiwi' is not in the tuple.\n"
     ]
    }
   ],
   "source": [
    "fruits = ('apple', 'banana', 'mango')\n",
    "if 'kiwi' in fruits:\n",
    "    print(\"Yes, 'kiwi' is in the tuple.\")\n",
    "else:\n",
    "    print(\"No, 'kiwi' is not in the tuple.\")\n"
   ]
  },
  {
   "cell_type": "markdown",
   "id": "3f03baf3-1bd9-41e6-875a-703a9276c721",
   "metadata": {},
   "source": [
    "16. Write a code to create a set with the elements 'a', 'b', 'c' and print it."
   ]
  },
  {
   "cell_type": "code",
   "execution_count": 27,
   "id": "92a4d451-163f-4e8f-a72a-d485d5e9ae45",
   "metadata": {},
   "outputs": [
    {
     "name": "stdout",
     "output_type": "stream",
     "text": [
      "{'c', 'a', 'b'}\n"
     ]
    }
   ],
   "source": [
    "elements_set = {'a','b','c'}\n",
    "print(elements_set)"
   ]
  },
  {
   "cell_type": "markdown",
   "id": "3730331a-6bca-4a2f-8bce-34456aae0dfb",
   "metadata": {},
   "source": [
    "17. Write a code to clear all elements from the set {1, 2, 3, 4, 5}"
   ]
  },
  {
   "cell_type": "code",
   "execution_count": 30,
   "id": "d4037c9f-afcb-4707-9772-b1b4f4859940",
   "metadata": {},
   "outputs": [
    {
     "name": "stdout",
     "output_type": "stream",
     "text": [
      "set()\n"
     ]
    }
   ],
   "source": [
    "my_set = {1,2,3,4,5}\n",
    "my_set.clear()\n",
    "print(my_set)"
   ]
  },
  {
   "cell_type": "markdown",
   "id": "57c07b42-4f4b-41af-81a2-063879a05795",
   "metadata": {},
   "source": [
    "18. Write a code to remove the element 4 from the set {1, 2, 3, 4}."
   ]
  },
  {
   "cell_type": "code",
   "execution_count": 31,
   "id": "e1d2cc00-3ecd-4d0b-bffd-71c0a906f623",
   "metadata": {},
   "outputs": [
    {
     "name": "stdout",
     "output_type": "stream",
     "text": [
      "{1, 2, 3}\n"
     ]
    }
   ],
   "source": [
    "my_set = {1, 2, 3, 4}\n",
    "my_set.remove(4)\n",
    "print(my_set)\n"
   ]
  },
  {
   "cell_type": "markdown",
   "id": "c6ea7fa3-55aa-448b-a13c-d00bef084db1",
   "metadata": {},
   "source": [
    "19. Write a code to find the union of two sets {1, 2, 3} and {3, 4, 5}."
   ]
  },
  {
   "cell_type": "code",
   "execution_count": 32,
   "id": "8bb4fdf7-9037-4ff5-8334-55a7a7b8f10d",
   "metadata": {},
   "outputs": [
    {
     "name": "stdout",
     "output_type": "stream",
     "text": [
      "{1, 2, 3, 4, 5}\n"
     ]
    }
   ],
   "source": [
    "set1 = {1, 2, 3}\n",
    "set2 = {3, 4, 5}\n",
    "union_set = set1 | (set2)\n",
    "print(union_set)\n"
   ]
  },
  {
   "cell_type": "markdown",
   "id": "e4c7e04a-1986-4ee8-af47-39fbda8b0c53",
   "metadata": {},
   "source": [
    "20. Write a code to find the intersection of two sets {1, 2, 3} and {2, 3, 4}."
   ]
  },
  {
   "cell_type": "code",
   "execution_count": 33,
   "id": "e823f345-6d7d-462a-bb39-26ff6e74e638",
   "metadata": {},
   "outputs": [
    {
     "name": "stdout",
     "output_type": "stream",
     "text": [
      "{2, 3}\n"
     ]
    }
   ],
   "source": [
    "set1 = {1, 2, 3}\n",
    "set2 = {2, 3, 4}\n",
    "intersection_set = set1 & (set2) \n",
    "print(intersection_set)\n"
   ]
  },
  {
   "cell_type": "markdown",
   "id": "1b7c95ec-75b1-47da-a539-300ecd97535b",
   "metadata": {},
   "source": [
    "21. Write a code to create a dictionary with the keys \"name\", \"age\", and \"city\", and print it.\n",
    "\n"
   ]
  },
  {
   "cell_type": "code",
   "execution_count": 34,
   "id": "4cc88573-78a4-4c32-b2cf-a201cea934eb",
   "metadata": {},
   "outputs": [
    {
     "name": "stdout",
     "output_type": "stream",
     "text": [
      "{'name': 'John', 'age': 30, 'city': 'New York'}\n"
     ]
    }
   ],
   "source": [
    "person = {\"name\": \"John\", \"age\": 30, \"city\": \"New York\"}\n",
    "print(person)\n"
   ]
  },
  {
   "cell_type": "markdown",
   "id": "3578d11d-fad4-4697-ae21-7aeb434f552d",
   "metadata": {},
   "source": [
    "22. Write a code to add a new key-value pair \"country\": \"USA\" to the dictionary {'name': 'John', 'age': 25}."
   ]
  },
  {
   "cell_type": "code",
   "execution_count": 35,
   "id": "481ef2aa-bb71-4eb0-86e3-9d6fde790a5a",
   "metadata": {},
   "outputs": [
    {
     "name": "stdout",
     "output_type": "stream",
     "text": [
      "{'name': 'John', 'age': 25, 'country': 'USA'}\n"
     ]
    }
   ],
   "source": [
    "person = {'name': 'John', 'age': 25}\n",
    "person['country'] = 'USA'\n",
    "print(person)\n"
   ]
  },
  {
   "cell_type": "markdown",
   "id": "ca2f9e7d-2a90-48b7-8f76-6d1e8e2e8022",
   "metadata": {},
   "source": [
    "23. Write a code to access the value associated with the key \"name\" in the dictionary {'name': 'Alice', 'age': 30}.\n",
    "\n"
   ]
  },
  {
   "cell_type": "code",
   "execution_count": 36,
   "id": "512180b3-c515-4e97-ab9d-5a29934794f5",
   "metadata": {},
   "outputs": [
    {
     "name": "stdout",
     "output_type": "stream",
     "text": [
      "Alice\n"
     ]
    }
   ],
   "source": [
    "person = {'name': 'Alice', 'age': 30}\n",
    "print(person['name'])\n"
   ]
  },
  {
   "cell_type": "markdown",
   "id": "dfbda379-b1ed-4df2-a612-606e4de8d8ef",
   "metadata": {},
   "source": [
    "24. Write a code to remove the key \"age\" from the dictionary {'name': 'Bob', 'age': 22, 'city': 'New York'}."
   ]
  },
  {
   "cell_type": "code",
   "execution_count": 37,
   "id": "04851436-7df2-41d1-9ca5-1d1dece39bac",
   "metadata": {},
   "outputs": [
    {
     "name": "stdout",
     "output_type": "stream",
     "text": [
      "{'name': 'Bob', 'city': 'New York'}\n"
     ]
    }
   ],
   "source": [
    "person = {'name': 'Bob', 'age': 22, 'city': 'New York'}\n",
    "person.pop('age')\n",
    "print(person)\n"
   ]
  },
  {
   "cell_type": "markdown",
   "id": "33f2a997-c640-4943-ad55-c02bc2b88765",
   "metadata": {},
   "source": [
    "25. Write a code to check if the key \"city\" exists in the dictionary {'name': 'Alice', 'city': 'Paris'}."
   ]
  },
  {
   "cell_type": "code",
   "execution_count": 38,
   "id": "2aa32d75-a579-423d-98f8-615befb20431",
   "metadata": {},
   "outputs": [
    {
     "name": "stdout",
     "output_type": "stream",
     "text": [
      "Yes, 'city' key exists.\n"
     ]
    }
   ],
   "source": [
    "person = {'name': 'Alice', 'city': 'Paris'}\n",
    "if 'city' in person:\n",
    "    print(\"Yes, 'city' key exists.\")\n",
    "else:\n",
    "    print(\"No, 'city' key does not exist.\")\n"
   ]
  },
  {
   "cell_type": "markdown",
   "id": "192d8038-11fa-4e61-9703-db6a7d73e8b2",
   "metadata": {},
   "source": [
    "26. Write a code to create a list, a tuple, and a dictionary, and print them all."
   ]
  },
  {
   "cell_type": "code",
   "execution_count": 39,
   "id": "58231989-0cb6-4e7d-a233-599c7049f4d7",
   "metadata": {},
   "outputs": [
    {
     "name": "stdout",
     "output_type": "stream",
     "text": [
      "[1, 2, 3]\n",
      "('a', 'b', 'c')\n",
      "{'name': 'John', 'age': 30}\n"
     ]
    }
   ],
   "source": [
    "my_list = [1, 2, 3]\n",
    "my_tuple = ('a', 'b', 'c')\n",
    "my_dict = {'name': 'John', 'age': 30}\n",
    "\n",
    "print(my_list)\n",
    "print(my_tuple)\n",
    "print(my_dict)\n"
   ]
  },
  {
   "cell_type": "markdown",
   "id": "46d42a70-7109-44e9-b22c-dd7bfbce9497",
   "metadata": {},
   "source": [
    "27. Write a code to create a list of 5 random numbers between 1 and 100, sort it in ascending order, and print the\n",
    "result.(replaced)"
   ]
  },
  {
   "cell_type": "code",
   "execution_count": 40,
   "id": "a5acef7a-8443-47a1-96b5-2ebd9cd4fe47",
   "metadata": {},
   "outputs": [
    {
     "name": "stdout",
     "output_type": "stream",
     "text": [
      "[21, 39, 68, 79, 85]\n"
     ]
    }
   ],
   "source": [
    "import random\n",
    "random_list = random.sample(range(1, 101), 5)\n",
    "random_list.sort()\n",
    "print(random_list)\n"
   ]
  },
  {
   "cell_type": "markdown",
   "id": "6c60ec1f-8950-4038-bfd9-b0c9955c6fa4",
   "metadata": {},
   "source": [
    "28. Write a code to create a list with strings and print the element at the third index."
   ]
  },
  {
   "cell_type": "code",
   "execution_count": 41,
   "id": "d273fb7b-f195-4813-83c8-57a063538da3",
   "metadata": {},
   "outputs": [
    {
     "name": "stdout",
     "output_type": "stream",
     "text": [
      "date\n"
     ]
    }
   ],
   "source": [
    "my_list = [\"apple\", \"banana\", \"cherry\", \"date\", \"fig\"]\n",
    "print(my_list[3]) \n"
   ]
  },
  {
   "cell_type": "markdown",
   "id": "07db42e7-9350-42e4-8b7f-9a5bfe7c3cca",
   "metadata": {},
   "source": [
    "29. Write a code to combine two dictionaries into one and print the result."
   ]
  },
  {
   "cell_type": "code",
   "execution_count": 42,
   "id": "4b446111-73c0-4277-9f20-12768c76cd10",
   "metadata": {},
   "outputs": [
    {
     "name": "stdout",
     "output_type": "stream",
     "text": [
      "{'a': 1, 'b': 2, 'c': 3, 'd': 4}\n"
     ]
    }
   ],
   "source": [
    "dict1 = {'a': 1, 'b': 2}\n",
    "dict2 = {'c': 3, 'd': 4}\n",
    "combined_dict = {**dict1, **dict2}\n",
    "print(combined_dict)\n"
   ]
  },
  {
   "cell_type": "markdown",
   "id": "8ab6d4cc-7728-4e68-8982-a3e5b75b22a2",
   "metadata": {},
   "source": [
    "30. Write a code to convert a list of strings into a set"
   ]
  },
  {
   "cell_type": "code",
   "execution_count": 43,
   "id": "a86a3bef-5310-4d7e-bc34-f64156d0845e",
   "metadata": {},
   "outputs": [
    {
     "name": "stdout",
     "output_type": "stream",
     "text": [
      "{'banana', 'cherry', 'apple'}\n"
     ]
    }
   ],
   "source": [
    "string_list = [\"apple\", \"banana\", \"cherry\", \"apple\"]\n",
    "string_set = set(string_list)\n",
    "print(string_set)\n"
   ]
  },
  {
   "cell_type": "code",
   "execution_count": null,
   "id": "16bfd817-de30-41fc-b723-0ada68e76951",
   "metadata": {},
   "outputs": [],
   "source": []
  }
 ],
 "metadata": {
  "kernelspec": {
   "display_name": "Python 3 (ipykernel)",
   "language": "python",
   "name": "python3"
  },
  "language_info": {
   "codemirror_mode": {
    "name": "ipython",
    "version": 3
   },
   "file_extension": ".py",
   "mimetype": "text/x-python",
   "name": "python",
   "nbconvert_exporter": "python",
   "pygments_lexer": "ipython3",
   "version": "3.13.2"
  }
 },
 "nbformat": 4,
 "nbformat_minor": 5
}
